{
 "cells": [
  {
   "cell_type": "markdown",
   "id": "4df8633e",
   "metadata": {},
   "source": [
    "# Introduction\n",
    "\n",
    "This notebook is used to orient the robot in preparation for camera calibration."
   ]
  },
  {
   "cell_type": "markdown",
   "id": "91901c66",
   "metadata": {},
   "source": [
    "## Imports\n",
    "\n",
    "Note: to launch this notebook and the nodes it depends on you must first specify a launch file. Details are provided earlier in this tutorial ()."
   ]
  },
  {
   "cell_type": "code",
   "execution_count": null,
   "id": "7bd810f5",
   "metadata": {},
   "outputs": [],
   "source": [
    "import time\n",
    "\n",
    "# generic ros libraries\n",
    "import rclpy\n",
    "from rclpy.logging import get_logger\n",
    "\n",
    "# moveit python library\n",
    "from moveit.core.robot_state import RobotState\n",
    "from moveit.planning import (\n",
    "    MoveItPy,\n",
    "    MultiPipelinePlanRequestParameters,\n",
    ")\n",
    "\n",
    "from ament_index_python.packages import get_package_share_directory\n",
    "from moveit_configs_utils import MoveItConfigsBuilder\n",
    "\n",
    "def plan_and_execute(\n",
    "    robot,\n",
    "    planning_component,\n",
    "    logger,\n",
    "    single_plan_parameters=None,\n",
    "    multi_plan_parameters=None,\n",
    "    sleep_time=0.0,\n",
    "):\n",
    "    \"\"\"Helper function to plan and execute a motion.\"\"\"\n",
    "    # plan to goal\n",
    "    logger.info(\"Planning trajectory\")\n",
    "    if multi_plan_parameters is not None:\n",
    "        plan_result = planning_component.plan(\n",
    "            multi_plan_parameters=multi_plan_parameters\n",
    "        )\n",
    "    elif single_plan_parameters is not None:\n",
    "        plan_result = planning_component.plan(\n",
    "            single_plan_parameters=single_plan_parameters\n",
    "        )\n",
    "    else:\n",
    "        plan_result = planning_component.plan()\n",
    "\n",
    "    # execute the plan\n",
    "    if plan_result:\n",
    "        logger.info(\"Executing plan\")\n",
    "        robot_trajectory = plan_result.trajectory\n",
    "        robot.execute(robot_trajectory, controllers=[])\n",
    "    else:\n",
    "        logger.error(\"Planning failed\")\n",
    "\n",
    "    time.sleep(sleep_time)\n",
    "\n",
    "class GripperClient(Node):\n",
    "\n",
    "    def __init__(self, gripper_controller):\n",
    "        super().__init__(\"gripper_client\")\n",
    "        self.gripper_action_client = ActionClient(\n",
    "            self,\n",
    "            GripperCommand, \n",
    "            gripper_controller,\n",
    "        )\n",
    "    \n",
    "    def close_gripper(self):\n",
    "        goal = GripperCommand.Goal()\n",
    "        goal.command.position = 0.8\n",
    "        goal.command.max_effort = 3.0\n",
    "        self.gripper_action_client.wait_for_server()\n",
    "        return self.gripper_action_client.send_goal_async(goal)\n",
    "\n",
    "    def open_gripper(self):\n",
    "        goal = GripperCommand.Goal()\n",
    "        goal.command.position = 0.0\n",
    "        goal.command.max_effort = 3.0\n",
    "        self.gripper_action_client.wait_for_server()\n",
    "        return self.gripper_action_client.send_goal_async(goal)\n",
    "\n",
    "# set params\n",
    "robot_ip = \"192.168.106.99\"\n",
    "use_gripper = \"true\" \n",
    "use_fake_hardware = \"true\" \n",
    "gripper_controller = \"/robotiq/robotiq_gripper_controller/gripper_cmd\"\n",
    "\n",
    "moveit_config = (\n",
    "            MoveItConfigsBuilder(robot_name=\"panda\", package_name=\"franka_robotiq_moveit_config\")\n",
    "            .robot_description(file_path=get_package_share_directory(\"franka_robotiq_description\") + \"/urdf/robot.urdf.xacro\",\n",
    "                mappings={\n",
    "                    \"robot_ip\": robot_ip,\n",
    "                    \"robotiq_gripper\": use_gripper,\n",
    "                    \"use_fake_hardware\": use_fake_hardware,\n",
    "                    })\n",
    "            .robot_description_semantic(\"config/panda.srdf.xacro\", \n",
    "                mappings={\n",
    "                    \"robotiq_gripper\": use_gripper,\n",
    "                    })\n",
    "            .trajectory_execution(\"config/moveit_controllers.yaml\")\n",
    "            .moveit_cpp(\n",
    "                file_path=get_package_share_directory(\"panda_motion_planning_demos\")\n",
    "                + \"/config/moveit_cpp.yaml\"\n",
    "            )\n",
    "            .to_moveit_configs()\n",
    "            ).to_dict()\n",
    "\n"
   ]
  },
  {
   "cell_type": "markdown",
   "id": "d44015e2",
   "metadata": {},
   "source": [
    "## Setup"
   ]
  },
  {
   "cell_type": "code",
   "execution_count": null,
   "id": "f9d767d3",
   "metadata": {},
   "outputs": [],
   "source": [
    "rclpy.init()\n",
    "logger = get_logger(\"moveit_py.pose_goal\")\n",
    "    \n",
    "# instantiate MoveItPy instance and get planning component\n",
    "panda = MoveItPy(node_name=\"moveit_py\", config_dict=moveit_config)\n",
    "panda_arm = panda.get_planning_component(\"panda_arm\")\n",
    "gripper_client = GripperClient(args.gripper_controller)"
   ]
  },
  {
   "cell_type": "markdown",
   "id": "e2dd1396-2dae-456f-9715-e5d292af87e5",
   "metadata": {},
   "source": [
    "# Grasp Calibration Board"
   ]
  },
  {
   "cell_type": "code",
   "execution_count": null,
   "id": "9832cb29-8e5c-49de-bf10-1be362bdc7ed",
   "metadata": {},
   "outputs": [],
   "source": [
    "gripper_client.close_gripper()"
   ]
  },
  {
   "cell_type": "markdown",
   "id": "2f72a61e",
   "metadata": {},
   "source": [
    "## Move to EEF start Pose"
   ]
  },
  {
   "cell_type": "code",
   "execution_count": null,
   "id": "08ca9268",
   "metadata": {},
   "outputs": [],
   "source": [
    "###########################################################################\n",
    "# Plan 2 - set goal state with PoseStamped message\n",
    "###########################################################################\n",
    "\n",
    "# set plan start state to current state\n",
    "panda_arm.set_start_state_to_current_state()\n",
    "\n",
    "# set pose goal with PoseStamped message\n",
    "from geometry_msgs.msg import PoseStamped\n",
    "import yaml \n",
    "\n",
    "# TODO: read in starting pose\n",
    "\n",
    "pose_goal = PoseStamped()\n",
    "pose_goal.header.frame_id = \"panda_link0\"\n",
    "pose_goal.pose.position.x = 0.28\n",
    "pose_goal.pose.position.y = -0.2\n",
    "pose_goal.pose.position.z = 0.5\n",
    "pose_goal.pose.orientation.w = 1.0\n",
    "pose_goal.pose.orientation.x = 1.0\n",
    "pose_goal.pose.orientation.y = 1.0\n",
    "pose_goal.pose.orientation.z = 1.0\n",
    "panda_arm.set_goal_state(pose_stamped_msg=pose_goal, pose_link=\"panda_link8\")\n",
    "\n",
    "# plan to goal\n",
    "plan_and_execute(panda, panda_arm, logger, sleep_time=3.0)"
   ]
  },
  {
   "cell_type": "code",
   "execution_count": null,
   "id": "1b2cba9e",
   "metadata": {},
   "outputs": [],
   "source": []
  }
 ],
 "metadata": {
  "kernelspec": {
   "display_name": "Python 3 (ipykernel)",
   "language": "python",
   "name": "python3"
  },
  "language_info": {
   "codemirror_mode": {
    "name": "ipython",
    "version": 3
   },
   "file_extension": ".py",
   "mimetype": "text/x-python",
   "name": "python",
   "nbconvert_exporter": "python",
   "pygments_lexer": "ipython3",
   "version": "3.10.6"
  }
 },
 "nbformat": 4,
 "nbformat_minor": 5
}
