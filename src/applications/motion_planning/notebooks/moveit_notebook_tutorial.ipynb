{
 "cells": [
  {
   "cell_type": "markdown",
   "id": "4df8633e",
   "metadata": {},
   "source": [
    "# Introduction\n",
    "\n",
    "Welcome to this tutorial on using jupyter notebooks with Moveit 2. A great benefit of being able to interact with MoveIt via a Python notebook is the ability to rapidly prototype code. We hope you find this interface intuitive and that you gain value from using MoveIt via Python notebooks.\n",
    "\n",
    "In this tutorial we will cover the following: \n",
    "\n",
    "* The required imports to run the notebook\n",
    "* A motion planning example\n",
    "* A teleoperation example\n",
    "\n",
    "If you have suggestions or feedback for this tutorial please post an issue on GitHub (https://github.com/ros-planning/moveit2_tutorials) and tag @peterdavidfagan."
   ]
  },
  {
   "cell_type": "markdown",
   "id": "91901c66",
   "metadata": {},
   "source": [
    "## Imports\n",
    "\n",
    "Note: to launch this notebook and the nodes it depends on you must first specify a launch file. Details are provided earlier in this tutorial ()."
   ]
  },
  {
   "cell_type": "code",
   "execution_count": null,
   "id": "7bd810f5",
   "metadata": {},
   "outputs": [],
   "source": [
    "import time\n",
    "\n",
    "# generic ros libraries\n",
    "import rclpy\n",
    "from rclpy.logging import get_logger\n",
    "\n",
    "# moveit python library\n",
    "from moveit.core.robot_state import RobotState\n",
    "from moveit.planning import (\n",
    "    MoveItPy,\n",
    "    MultiPipelinePlanRequestParameters,\n",
    ")\n",
    "\n",
    "from ament_index_python.packages import get_package_share_directory\n",
    "from moveit_configs_utils import MoveItConfigsBuilder\n",
    "\n",
    "def plan_and_execute(\n",
    "    robot,\n",
    "    planning_component,\n",
    "    logger,\n",
    "    single_plan_parameters=None,\n",
    "    multi_plan_parameters=None,\n",
    "    sleep_time=0.0,\n",
    "):\n",
    "    \"\"\"Helper function to plan and execute a motion.\"\"\"\n",
    "    # plan to goal\n",
    "    logger.info(\"Planning trajectory\")\n",
    "    if multi_plan_parameters is not None:\n",
    "        plan_result = planning_component.plan(\n",
    "            multi_plan_parameters=multi_plan_parameters\n",
    "        )\n",
    "    elif single_plan_parameters is not None:\n",
    "        plan_result = planning_component.plan(\n",
    "            single_plan_parameters=single_plan_parameters\n",
    "        )\n",
    "    else:\n",
    "        plan_result = planning_component.plan()\n",
    "\n",
    "    # execute the plan\n",
    "    if plan_result:\n",
    "        logger.info(\"Executing plan\")\n",
    "        robot_trajectory = plan_result.trajectory\n",
    "        robot.execute(robot_trajectory, controllers=[])\n",
    "    else:\n",
    "        logger.error(\"Planning failed\")\n",
    "\n",
    "    time.sleep(sleep_time)\n",
    "\n",
    "\n",
    "# set params\n",
    "robot_ip = \"192.168.106.99\"\n",
    "use_gripper = \"true\" \n",
    "use_fake_hardware = \"true\" \n",
    "\n",
    "moveit_config = (\n",
    "            MoveItConfigsBuilder(robot_name=\"panda\", package_name=\"franka_robotiq_moveit_config\")\n",
    "            .robot_description(file_path=get_package_share_directory(\"franka_robotiq_description\") + \"/urdf/robot.urdf.xacro\",\n",
    "                mappings={\n",
    "                    \"robot_ip\": robot_ip,\n",
    "                    \"robotiq_gripper\": use_gripper,\n",
    "                    \"use_fake_hardware\": use_fake_hardware,\n",
    "                    })\n",
    "            .robot_description_semantic(\"config/panda.srdf.xacro\", \n",
    "                mappings={\n",
    "                    \"robotiq_gripper\": use_gripper,\n",
    "                    })\n",
    "            .trajectory_execution(\"config/moveit_controllers.yaml\")\n",
    "            .moveit_cpp(\n",
    "                file_path=get_package_share_directory(\"panda_motion_planning_demos\")\n",
    "                + \"/config/moveit_cpp.yaml\"\n",
    "            )\n",
    "            .to_moveit_configs()\n",
    "            ).to_dict()\n",
    "\n"
   ]
  },
  {
   "cell_type": "markdown",
   "id": "d44015e2",
   "metadata": {},
   "source": [
    "## Setup"
   ]
  },
  {
   "cell_type": "code",
   "execution_count": null,
   "id": "f9d767d3",
   "metadata": {},
   "outputs": [],
   "source": [
    "rclpy.init()\n",
    "logger = get_logger(\"moveit_py.pose_goal\")\n",
    "    \n",
    "# instantiate MoveItPy instance and get planning component\n",
    "panda = MoveItPy(node_name=\"moveit_py\", config_dict=moveit_config)\n",
    "panda_arm = panda.get_planning_component(\"panda_arm\")\n",
    "logger.info(\"MoveItPy instance created\")"
   ]
  },
  {
   "cell_type": "markdown",
   "id": "2f72a61e",
   "metadata": {},
   "source": [
    "## Motion Planning Example"
   ]
  },
  {
   "cell_type": "code",
   "execution_count": null,
   "id": "2f590234",
   "metadata": {},
   "outputs": [],
   "source": [
    " ###########################################################################\n",
    "# Plan 1 - set goal state with RobotState object\n",
    "###########################################################################\n",
    "\n",
    "# instantiate a RobotState instance using the current robot model\n",
    "robot_model = panda.get_robot_model()\n",
    "robot_state = RobotState(robot_model)\n",
    "\n",
    "# randomize the robot state\n",
    "robot_state.set_to_random_positions()\n",
    "\n",
    "# set plan start state to current state\n",
    "panda_arm.set_start_state_to_current_state()\n",
    "\n",
    "# set goal state to the initialized robot state\n",
    "logger.info(\"Set goal state to the initialized robot state\")\n",
    "panda_arm.set_goal_state(robot_state=robot_state)\n",
    "\n",
    "# plan to goal\n",
    "plan_and_execute(panda, panda_arm, logger, sleep_time=3.0)"
   ]
  },
  {
   "cell_type": "code",
   "execution_count": null,
   "id": "08ca9268",
   "metadata": {},
   "outputs": [],
   "source": [
    "###########################################################################\n",
    "# Plan 2 - set goal state with PoseStamped message\n",
    "###########################################################################\n",
    "\n",
    "# set plan start state to current state\n",
    "panda_arm.set_start_state_to_current_state()\n",
    "\n",
    "# set pose goal with PoseStamped message\n",
    "from geometry_msgs.msg import PoseStamped\n",
    "\n",
    "pose_goal = PoseStamped()\n",
    "pose_goal.header.frame_id = \"panda_link0\"\n",
    "pose_goal.pose.orientation.w = 1.0\n",
    "pose_goal.pose.position.x = 0.28\n",
    "pose_goal.pose.position.y = -0.2\n",
    "pose_goal.pose.position.z = 0.5\n",
    "panda_arm.set_goal_state(pose_stamped_msg=pose_goal, pose_link=\"panda_link8\")\n",
    "\n",
    "# plan to goal\n",
    "plan_and_execute(panda, panda_arm, logger, sleep_time=3.0)"
   ]
  },
  {
   "cell_type": "code",
   "execution_count": null,
   "id": "1b2cba9e",
   "metadata": {},
   "outputs": [],
   "source": []
  }
 ],
 "metadata": {
  "kernelspec": {
   "display_name": "Python 3 (ipykernel)",
   "language": "python",
   "name": "python3"
  },
  "language_info": {
   "codemirror_mode": {
    "name": "ipython",
    "version": 3
   },
   "file_extension": ".py",
   "mimetype": "text/x-python",
   "name": "python",
   "nbconvert_exporter": "python",
   "pygments_lexer": "ipython3",
   "version": "3.10.12"
  }
 },
 "nbformat": 4,
 "nbformat_minor": 5
}
